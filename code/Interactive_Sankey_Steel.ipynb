{
 "cells": [
  {
   "cell_type": "markdown",
   "id": "abe1d3a2",
   "metadata": {},
   "source": [
    "# Interactive Sankey Diagrams of Iron and Steel Flows\n",
    "\n",
    "**Author:**\n",
    "Takuma Watari (National Institute of Environmental Studies, Japan)\n",
    "\n",
    "**Aim:**\n",
    "This notebook presents interactive Sankey diagrams of iron and steel flows for the world's top 30 crude steel producing countries.\n",
    "\n",
    "**Software:**\n",
    "The Sankey diagram is designed using [floWeaver software](https://github.com/ricklupton/floweaver).\n",
    "\n",
    "**Interact with Sankey diagrams:**\n",
    "- Select a country: Use the pull-down menu to select the country you're interested in.\n",
    "- Select a year: Drag the slider to select the year you want to explore.\n",
    "- Hover for details: Hover over each flow in the graph to see the actual data."
   ]
  },
  {
   "cell_type": "code",
   "execution_count": 1,
   "id": "c3cbaba5",
   "metadata": {},
   "outputs": [
    {
     "ename": "ModuleNotFoundError",
     "evalue": "No module named 'sankey_interactive'",
     "output_type": "error",
     "traceback": [
      "\u001b[0;31m---------------------------------------------------------------------------\u001b[0m",
      "\u001b[0;31mModuleNotFoundError\u001b[0m                       Traceback (most recent call last)",
      "\u001b[0;32m/var/folders/t0/rsbng5rx2lg9t_sqlxdh_p6w0000gn/T/ipykernel_28120/2509024937.py\u001b[0m in \u001b[0;36m<module>\u001b[0;34m\u001b[0m\n\u001b[0;32m----> 1\u001b[0;31m \u001b[0;32mfrom\u001b[0m \u001b[0msankey_interactive\u001b[0m \u001b[0;32mimport\u001b[0m \u001b[0mrun_sankey_interactive\u001b[0m\u001b[0;34m\u001b[0m\u001b[0;34m\u001b[0m\u001b[0m\n\u001b[0m\u001b[1;32m      2\u001b[0m \u001b[0mtarget_years\u001b[0m \u001b[0;34m=\u001b[0m \u001b[0mlist\u001b[0m\u001b[0;34m(\u001b[0m\u001b[0mrange\u001b[0m\u001b[0;34m(\u001b[0m\u001b[0;36m2000\u001b[0m\u001b[0;34m,\u001b[0m \u001b[0;36m2020\u001b[0m\u001b[0;34m)\u001b[0m\u001b[0;34m)\u001b[0m\u001b[0;34m\u001b[0m\u001b[0;34m\u001b[0m\u001b[0m\n\u001b[1;32m      3\u001b[0m \u001b[0mrun_sankey_interactive\u001b[0m\u001b[0;34m(\u001b[0m\u001b[0mtarget_years\u001b[0m\u001b[0;34m)\u001b[0m\u001b[0;34m\u001b[0m\u001b[0;34m\u001b[0m\u001b[0m\n",
      "\u001b[0;31mModuleNotFoundError\u001b[0m: No module named 'sankey_interactive'"
     ]
    }
   ],
   "source": [
    "from sankey_interactive import run_sankey_interactive\n",
    "target_years = list(range(2000, 2020))\n",
    "run_sankey_interactive(target_years)"
   ]
  },
  {
   "cell_type": "code",
   "execution_count": null,
   "id": "ed197f24",
   "metadata": {},
   "outputs": [],
   "source": []
  }
 ],
 "metadata": {
  "kernelspec": {
   "display_name": "Python 3 (ipykernel)",
   "language": "python",
   "name": "python3"
  },
  "language_info": {
   "codemirror_mode": {
    "name": "ipython",
    "version": 3
   },
   "file_extension": ".py",
   "mimetype": "text/x-python",
   "name": "python",
   "nbconvert_exporter": "python",
   "pygments_lexer": "ipython3",
   "version": "3.9.7"
  }
 },
 "nbformat": 4,
 "nbformat_minor": 5
}
