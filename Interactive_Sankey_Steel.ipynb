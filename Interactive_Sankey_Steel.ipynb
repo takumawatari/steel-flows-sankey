{
 "cells": [
  {
   "cell_type": "markdown",
   "id": "abe1d3a2",
   "metadata": {},
   "source": [
    "# Interactive Sankey Diagrams of Iron and Steel Flows\n",
    "\n",
    "**Author:**\n",
    "Takuma Watari (National Institute of Environmental Studies, Japan)\n",
    "\n",
    "**Aim:**\n",
    "This notebook presents interactive Sankey diagrams of iron and steel flows for the world's top 30 crude steel producing countries.\n",
    "\n",
    "**Software:**\n",
    "The Sankey diagram is designed using [floWeaver software](https://github.com/ricklupton/floweaver).\n",
    "\n",
    "**Interact with Sankey diagrams:**\n",
    "- Select a country: Use the pull-down menu to select the country you're interested in.\n",
    "- Select a year: Drag the slider to select the year you want to explore.\n",
    "- View the diagram: Once you've made your selection, the Sankey diagram for the selected country and year will instantly appear.\n",
    "- Hover for details: Hover over each flow in the graph to see the actual data."
   ]
  },
  {
   "cell_type": "code",
   "execution_count": 2,
   "id": "c3cbaba5",
   "metadata": {},
   "outputs": [
    {
     "data": {
      "application/vnd.jupyter.widget-view+json": {
       "model_id": "6386234432b84c769e07812ebe8f2397",
       "version_major": 2,
       "version_minor": 0
      },
      "text/plain": [
       "interactive(children=(Dropdown(description='Country:', options=('China', 'India', 'Japan', 'United States', 'R…"
      ]
     },
     "metadata": {},
     "output_type": "display_data"
    }
   ],
   "source": [
    "from sankey_interactive import run_sankey_interactive\n",
    "target_years = [2000, 2005, 2010, 2015, 2019]\n",
    "run_sankey_interactive(target_years)"
   ]
  },
  {
   "cell_type": "code",
   "execution_count": null,
   "id": "ed197f24",
   "metadata": {},
   "outputs": [],
   "source": []
  }
 ],
 "metadata": {
  "kernelspec": {
   "display_name": "Python 3 (ipykernel)",
   "language": "python",
   "name": "python3"
  },
  "language_info": {
   "codemirror_mode": {
    "name": "ipython",
    "version": 3
   },
   "file_extension": ".py",
   "mimetype": "text/x-python",
   "name": "python",
   "nbconvert_exporter": "python",
   "pygments_lexer": "ipython3",
   "version": "3.9.7"
  }
 },
 "nbformat": 4,
 "nbformat_minor": 5
}
